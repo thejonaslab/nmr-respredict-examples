{
 "cells": [
  {
   "cell_type": "markdown",
   "metadata": {},
   "source": [
    "## Using respredict to predict chemical shifts with python\n",
    "\n",
    "This notebook shows how to use our Docker image to predict molecules from rdkit"
   ]
  },
  {
   "cell_type": "code",
   "execution_count": 1,
   "metadata": {
    "ExecuteTime": {
     "end_time": "2020-01-28T03:36:54.760479Z",
     "start_time": "2020-01-28T03:36:53.642514Z"
    }
   },
   "outputs": [
    {
     "name": "stdout",
     "output_type": "stream",
     "text": [
      "Populating the interactive namespace from numpy and matplotlib\n"
     ]
    }
   ],
   "source": [
    "%pylab inline\n",
    "import numpy as np\n",
    "from rdkit import Chem\n",
    "import rdkit.Chem.AllChem\n",
    "from rdkit.Chem.Draw import IPythonConsole #Needed to show molecules\n",
    "import pickle\n",
    "import json\n",
    "import pandas as pd\n",
    "from rdkit.Chem import Draw\n"
   ]
  },
  {
   "cell_type": "code",
   "execution_count": 2,
   "metadata": {
    "ExecuteTime": {
     "end_time": "2020-01-28T03:36:54.788833Z",
     "start_time": "2020-01-28T03:36:54.762635Z"
    }
   },
   "outputs": [
    {
     "data": {
      "image/png": "[encoded data removed]",
      "text/plain": [
       "<rdkit.Chem.rdchem.Mol at 0x7f637a6bb030>"
      ]
     },
     "execution_count": 2,
     "metadata": {},
     "output_type": "execute_result"
    }
   ],
   "source": [
    "ibuprofen_smiles = \"CC(C)Cc1ccc(cc1)[C@@H](C)C(=O)O\"\n",
    "mol = Chem.MolFromSmiles(ibuprofen_smiles)\n",
    "mol"
   ]
  },
  {
   "cell_type": "code",
   "execution_count": 3,
   "metadata": {
    "ExecuteTime": {
     "end_time": "2020-01-28T03:36:54.808217Z",
     "start_time": "2020-01-28T03:36:54.790926Z"
    }
   },
   "outputs": [
    {
     "data": {
      "image/png": "[encoded data removed]",
      "text/plain": [
       "<rdkit.Chem.rdchem.Mol at 0x7f637a6bb850>"
      ]
     },
     "execution_count": 3,
     "metadata": {},
     "output_type": "execute_result"
    }
   ],
   "source": [
    "# add Hs \n",
    "mol = Chem.AddHs(mol)\n",
    "# position hydrogens for plotting\n",
    "Chem.AllChem.Compute2DCoords(mol)\n",
    "mol"
   ]
  },
  {
   "cell_type": "code",
   "execution_count": 4,
   "metadata": {
    "ExecuteTime": {
     "end_time": "2020-01-28T03:36:54.858091Z",
     "start_time": "2020-01-28T03:36:54.810103Z"
    }
   },
   "outputs": [],
   "source": [
    "## save the file \n",
    "pickle.dump([mol], open(\"/tmp/test.pickle\", 'wb'))"
   ]
  },
  {
   "cell_type": "markdown",
   "metadata": {},
   "source": [
    "### Running the container\n",
    "We have a docker container that can be used to run the prediction code. It can accept a variety of formats, here we're using pickled rdkit objects. "
   ]
  },
  {
   "cell_type": "code",
   "execution_count": 5,
   "metadata": {
    "ExecuteTime": {
     "end_time": "2020-01-28T03:36:59.468044Z",
     "start_time": "2020-01-28T03:36:54.859880Z"
    }
   },
   "outputs": [
    {
     "name": "stdout",
     "output_type": "stream",
     "text": [
      "Usage: predict_standalone.py [OPTIONS]\r\n",
      "\r\n",
      "Options:\r\n",
      "  --filename TEXT                 filename of file to read, or stdin if\r\n",
      "                                  unspecified\r\n",
      "  --format [rdkit|sdf]            file format (sdf, rdkit)\r\n",
      "  --nuc [1H|13C]                  Nucleus (1H or 13C)\r\n",
      "  --model_meta_filename TEXT\r\n",
      "  --model_checkpoint_filename TEXT\r\n",
      "  --output TEXT\r\n",
      "  --cuda / --no-cuda\r\n",
      "  --sanitize / --no-sanitize      sanitize the input molecules\r\n",
      "  --addhs TEXT                    Add Hs to the input molecules\r\n",
      "  --skip-molecule-errors / --no-skip-molecule-errors\r\n",
      "                                  skip any errors\r\n",
      "  --help                          Show this message and exit.\r\n"
     ]
    }
   ],
   "source": [
    "!docker run -i jonaslab/nmr-respredict:beta --help"
   ]
  },
  {
   "cell_type": "markdown",
   "metadata": {},
   "source": [
    "The container reads in a binary file from stdin and writes its json output to stdout. Here we show it generating the shifts for carbon atoms"
   ]
  },
  {
   "cell_type": "code",
   "execution_count": 6,
   "metadata": {
    "ExecuteTime": {
     "end_time": "2020-01-28T03:37:04.236490Z",
     "start_time": "2020-01-28T03:36:59.469893Z"
    }
   },
   "outputs": [],
   "source": [
    "!docker run -i jonaslab/nmr-respredict:beta  --format=rdkit --nuc=13C < /tmp/test.pickle > /tmp/shifts.13C.json        "
   ]
  },
  {
   "cell_type": "markdown",
   "metadata": {},
   "source": [
    "We can read those shifts in using python's json module:"
   ]
  },
  {
   "cell_type": "code",
   "execution_count": 7,
   "metadata": {
    "ExecuteTime": {
     "end_time": "2020-01-28T03:37:04.244886Z",
     "start_time": "2020-01-28T03:37:04.238860Z"
    }
   },
   "outputs": [],
   "source": [
    "shift_13C_dict = json.load(open(\"/tmp/shifts.13C.json\"))"
   ]
  },
  {
   "cell_type": "code",
   "execution_count": 8,
   "metadata": {
    "ExecuteTime": {
     "end_time": "2020-01-28T03:37:04.254747Z",
     "start_time": "2020-01-28T03:37:04.250613Z"
    },
    "scrolled": false
   },
   "outputs": [
    {
     "data": {
      "text/plain": [
       "{'predictions': [{'smiles': '[H]OC(=O)[C@@]([H])(c1c([H])c([H])c(C([H])([H])C([H])(C([H])([H])[H])C([H])([H])[H])c([H])c1[H])C([H])([H])[H]',\n",
       "   'runtime': 0.08744025230407715,\n",
       "   'shifts': [{'atom_idx': 0,\n",
       "     'pred_mu': 22.096878051757812,\n",
       "     'pred_std': 0.2904541790485382},\n",
       "    {'atom_idx': 1,\n",
       "     'pred_mu': 30.1968994140625,\n",
       "     'pred_std': 0.27719593048095703},\n",
       "    {'atom_idx': 2,\n",
       "     'pred_mu': 22.096881866455078,\n",
       "     'pred_std': 0.29045331478118896},\n",
       "    {'atom_idx': 3,\n",
       "     'pred_mu': 45.8773193359375,\n",
       "     'pred_std': 1.3186558485031128},\n",
       "    {'atom_idx': 4,\n",
       "     'pred_mu': 140.06936645507812,\n",
       "     'pred_std': 0.6302348971366882},\n",
       "    {'atom_idx': 5,\n",
       "     'pred_mu': 130.3710479736328,\n",
       "     'pred_std': 0.5118639469146729},\n",
       "    {'atom_idx': 6,\n",
       "     'pred_mu': 128.00685119628906,\n",
       "     'pred_std': 0.5885018110275269},\n",
       "    {'atom_idx': 7,\n",
       "     'pred_mu': 137.044677734375,\n",
       "     'pred_std': 0.7776199579238892},\n",
       "    {'atom_idx': 8, 'pred_mu': 128.0068359375, 'pred_std': 0.5885028839111328},\n",
       "    {'atom_idx': 9,\n",
       "     'pred_mu': 130.3710479736328,\n",
       "     'pred_std': 0.5118638873100281},\n",
       "    {'atom_idx': 10,\n",
       "     'pred_mu': 46.01841354370117,\n",
       "     'pred_std': 1.3449389934539795},\n",
       "    {'atom_idx': 11,\n",
       "     'pred_mu': 17.942157745361328,\n",
       "     'pred_std': 0.6537193059921265},\n",
       "    {'atom_idx': 12,\n",
       "     'pred_mu': 178.98765563964844,\n",
       "     'pred_std': 1.3672152757644653}],\n",
       "   'success': True}],\n",
       " 'meta': {'max_n': 128,\n",
       "  'tgt_nucs': ['13C'],\n",
       "  'model_checkpoint_filename': 'models/default_13C.checkpoint',\n",
       "  'model_meta_filename': 'models/default_13C.meta',\n",
       "  'ts_start': '2020-01-28T03:37:03.092998',\n",
       "  'ts_end': '2020-01-28T03:37:03.261108',\n",
       "  'runtime_sec': 0.16811060905456543,\n",
       "  'use_cuda': False}}"
      ]
     },
     "execution_count": 8,
     "metadata": {},
     "output_type": "execute_result"
    }
   ],
   "source": [
    "shift_13C_dict"
   ]
  },
  {
   "cell_type": "code",
   "execution_count": null,
   "metadata": {
    "ExecuteTime": {
     "end_time": "2020-01-28T03:00:29.299720Z",
     "start_time": "2020-01-28T03:00:28.465839Z"
    }
   },
   "outputs": [],
   "source": []
  },
  {
   "cell_type": "code",
   "execution_count": 9,
   "metadata": {
    "ExecuteTime": {
     "end_time": "2020-01-28T03:37:04.353968Z",
     "start_time": "2020-01-28T03:37:04.255859Z"
    }
   },
   "outputs": [
    {
     "data": {
      "text/html": [
       "<div>\n",
       "<style scoped>\n",
       "    .dataframe tbody tr th:only-of-type {\n",
       "        vertical-align: middle;\n",
       "    }\n",
       "\n",
       "    .dataframe tbody tr th {\n",
       "        vertical-align: top;\n",
       "    }\n",
       "\n",
       "    .dataframe thead th {\n",
       "        text-align: right;\n",
       "    }\n",
       "</style>\n",
       "<table border=\"1\" class=\"dataframe\">\n",
       "  <thead>\n",
       "    <tr style=\"text-align: right;\">\n",
       "      <th></th>\n",
       "      <th>atom_idx</th>\n",
       "      <th>pred_mu</th>\n",
       "      <th>pred_std</th>\n",
       "    </tr>\n",
       "  </thead>\n",
       "  <tbody>\n",
       "    <tr>\n",
       "      <th>0</th>\n",
       "      <td>0</td>\n",
       "      <td>22.096878</td>\n",
       "      <td>0.290454</td>\n",
       "    </tr>\n",
       "    <tr>\n",
       "      <th>1</th>\n",
       "      <td>1</td>\n",
       "      <td>30.196899</td>\n",
       "      <td>0.277196</td>\n",
       "    </tr>\n",
       "    <tr>\n",
       "      <th>2</th>\n",
       "      <td>2</td>\n",
       "      <td>22.096882</td>\n",
       "      <td>0.290453</td>\n",
       "    </tr>\n",
       "    <tr>\n",
       "      <th>3</th>\n",
       "      <td>3</td>\n",
       "      <td>45.877319</td>\n",
       "      <td>1.318656</td>\n",
       "    </tr>\n",
       "    <tr>\n",
       "      <th>4</th>\n",
       "      <td>4</td>\n",
       "      <td>140.069366</td>\n",
       "      <td>0.630235</td>\n",
       "    </tr>\n",
       "    <tr>\n",
       "      <th>5</th>\n",
       "      <td>5</td>\n",
       "      <td>130.371048</td>\n",
       "      <td>0.511864</td>\n",
       "    </tr>\n",
       "    <tr>\n",
       "      <th>6</th>\n",
       "      <td>6</td>\n",
       "      <td>128.006851</td>\n",
       "      <td>0.588502</td>\n",
       "    </tr>\n",
       "    <tr>\n",
       "      <th>7</th>\n",
       "      <td>7</td>\n",
       "      <td>137.044678</td>\n",
       "      <td>0.777620</td>\n",
       "    </tr>\n",
       "    <tr>\n",
       "      <th>8</th>\n",
       "      <td>8</td>\n",
       "      <td>128.006836</td>\n",
       "      <td>0.588503</td>\n",
       "    </tr>\n",
       "    <tr>\n",
       "      <th>9</th>\n",
       "      <td>9</td>\n",
       "      <td>130.371048</td>\n",
       "      <td>0.511864</td>\n",
       "    </tr>\n",
       "    <tr>\n",
       "      <th>10</th>\n",
       "      <td>10</td>\n",
       "      <td>46.018414</td>\n",
       "      <td>1.344939</td>\n",
       "    </tr>\n",
       "    <tr>\n",
       "      <th>11</th>\n",
       "      <td>11</td>\n",
       "      <td>17.942158</td>\n",
       "      <td>0.653719</td>\n",
       "    </tr>\n",
       "    <tr>\n",
       "      <th>12</th>\n",
       "      <td>12</td>\n",
       "      <td>178.987656</td>\n",
       "      <td>1.367215</td>\n",
       "    </tr>\n",
       "  </tbody>\n",
       "</table>\n",
       "</div>"
      ],
      "text/plain": [
       "    atom_idx     pred_mu  pred_std\n",
       "0          0   22.096878  0.290454\n",
       "1          1   30.196899  0.277196\n",
       "2          2   22.096882  0.290453\n",
       "3          3   45.877319  1.318656\n",
       "4          4  140.069366  0.630235\n",
       "5          5  130.371048  0.511864\n",
       "6          6  128.006851  0.588502\n",
       "7          7  137.044678  0.777620\n",
       "8          8  128.006836  0.588503\n",
       "9          9  130.371048  0.511864\n",
       "10        10   46.018414  1.344939\n",
       "11        11   17.942158  0.653719\n",
       "12        12  178.987656  1.367215"
      ]
     },
     "execution_count": 9,
     "metadata": {},
     "output_type": "execute_result"
    }
   ],
   "source": [
    "# We extract the shifts for the first (and only) molecule in our dataset and create a data frame:\n",
    "first_mol = shift_13C_dict['predictions'][0]\n",
    "shifts = first_mol['shifts']\n",
    "pred_df = pd.DataFrame(shifts)\n",
    "pred_df"
   ]
  },
  {
   "cell_type": "code",
   "execution_count": 10,
   "metadata": {
    "ExecuteTime": {
     "end_time": "2020-01-28T03:37:04.629079Z",
     "start_time": "2020-01-28T03:37:04.355315Z"
    }
   },
   "outputs": [
    {
     "data": {
      "image/png": "[encoded data removed]",
      "text/plain": [
       "<PIL.Image.Image image mode=RGBA size=300x300 at 0x7F637A631C50>"
      ]
     },
     "execution_count": 10,
     "metadata": {},
     "output_type": "execute_result"
    }
   ],
   "source": [
    "# we can match atom_idx to the atoms in the molecule:\n",
    "Draw.MolToImage(mol, includeAtomNumbers=True)"
   ]
  },
  {
   "cell_type": "markdown",
   "metadata": {},
   "source": [
    "Let's look at that dataframe again: it has three columns, atom_idx (zero-indexed), pred_mu (the mean predicted shift) and pred_std, a \"confidence estimate\". The smaller this number, the more confident we are in the prediction (for more details, see the paper)"
   ]
  },
  {
   "cell_type": "code",
   "execution_count": 11,
   "metadata": {
    "ExecuteTime": {
     "end_time": "2020-01-28T03:37:04.641058Z",
     "start_time": "2020-01-28T03:37:04.630903Z"
    }
   },
   "outputs": [
    {
     "data": {
      "text/html": [
       "<div>\n",
       "<style scoped>\n",
       "    .dataframe tbody tr th:only-of-type {\n",
       "        vertical-align: middle;\n",
       "    }\n",
       "\n",
       "    .dataframe tbody tr th {\n",
       "        vertical-align: top;\n",
       "    }\n",
       "\n",
       "    .dataframe thead th {\n",
       "        text-align: right;\n",
       "    }\n",
       "</style>\n",
       "<table border=\"1\" class=\"dataframe\">\n",
       "  <thead>\n",
       "    <tr style=\"text-align: right;\">\n",
       "      <th></th>\n",
       "      <th>atom_idx</th>\n",
       "      <th>pred_mu</th>\n",
       "      <th>pred_std</th>\n",
       "    </tr>\n",
       "  </thead>\n",
       "  <tbody>\n",
       "    <tr>\n",
       "      <th>0</th>\n",
       "      <td>0</td>\n",
       "      <td>22.096878</td>\n",
       "      <td>0.290454</td>\n",
       "    </tr>\n",
       "    <tr>\n",
       "      <th>1</th>\n",
       "      <td>1</td>\n",
       "      <td>30.196899</td>\n",
       "      <td>0.277196</td>\n",
       "    </tr>\n",
       "    <tr>\n",
       "      <th>2</th>\n",
       "      <td>2</td>\n",
       "      <td>22.096882</td>\n",
       "      <td>0.290453</td>\n",
       "    </tr>\n",
       "    <tr>\n",
       "      <th>3</th>\n",
       "      <td>3</td>\n",
       "      <td>45.877319</td>\n",
       "      <td>1.318656</td>\n",
       "    </tr>\n",
       "    <tr>\n",
       "      <th>4</th>\n",
       "      <td>4</td>\n",
       "      <td>140.069366</td>\n",
       "      <td>0.630235</td>\n",
       "    </tr>\n",
       "    <tr>\n",
       "      <th>5</th>\n",
       "      <td>5</td>\n",
       "      <td>130.371048</td>\n",
       "      <td>0.511864</td>\n",
       "    </tr>\n",
       "    <tr>\n",
       "      <th>6</th>\n",
       "      <td>6</td>\n",
       "      <td>128.006851</td>\n",
       "      <td>0.588502</td>\n",
       "    </tr>\n",
       "    <tr>\n",
       "      <th>7</th>\n",
       "      <td>7</td>\n",
       "      <td>137.044678</td>\n",
       "      <td>0.777620</td>\n",
       "    </tr>\n",
       "    <tr>\n",
       "      <th>8</th>\n",
       "      <td>8</td>\n",
       "      <td>128.006836</td>\n",
       "      <td>0.588503</td>\n",
       "    </tr>\n",
       "    <tr>\n",
       "      <th>9</th>\n",
       "      <td>9</td>\n",
       "      <td>130.371048</td>\n",
       "      <td>0.511864</td>\n",
       "    </tr>\n",
       "    <tr>\n",
       "      <th>10</th>\n",
       "      <td>10</td>\n",
       "      <td>46.018414</td>\n",
       "      <td>1.344939</td>\n",
       "    </tr>\n",
       "    <tr>\n",
       "      <th>11</th>\n",
       "      <td>11</td>\n",
       "      <td>17.942158</td>\n",
       "      <td>0.653719</td>\n",
       "    </tr>\n",
       "    <tr>\n",
       "      <th>12</th>\n",
       "      <td>12</td>\n",
       "      <td>178.987656</td>\n",
       "      <td>1.367215</td>\n",
       "    </tr>\n",
       "  </tbody>\n",
       "</table>\n",
       "</div>"
      ],
      "text/plain": [
       "    atom_idx     pred_mu  pred_std\n",
       "0          0   22.096878  0.290454\n",
       "1          1   30.196899  0.277196\n",
       "2          2   22.096882  0.290453\n",
       "3          3   45.877319  1.318656\n",
       "4          4  140.069366  0.630235\n",
       "5          5  130.371048  0.511864\n",
       "6          6  128.006851  0.588502\n",
       "7          7  137.044678  0.777620\n",
       "8          8  128.006836  0.588503\n",
       "9          9  130.371048  0.511864\n",
       "10        10   46.018414  1.344939\n",
       "11        11   17.942158  0.653719\n",
       "12        12  178.987656  1.367215"
      ]
     },
     "execution_count": 11,
     "metadata": {},
     "output_type": "execute_result"
    }
   ],
   "source": [
    "pred_df"
   ]
  }
 ],
 "metadata": {
  "kernelspec": {
   "display_name": "Python 3",
   "language": "python",
   "name": "python3"
  },
  "language_info": {
   "codemirror_mode": {
    "name": "ipython",
    "version": 3
   },
   "file_extension": ".py",
   "mimetype": "text/x-python",
   "name": "python",
   "nbconvert_exporter": "python",
   "pygments_lexer": "ipython3",
   "version": "3.6.9"
  }
 },
 "nbformat": 4,
 "nbformat_minor": 2
}
